{
 "cells": [
  {
   "cell_type": "code",
   "execution_count": 1,
   "metadata": {},
   "outputs": [],
   "source": [
    "import tensorflow as tf\n",
    "import numpy as np\n",
    "import matplotlib.pyplot as plt"
   ]
  },
  {
   "cell_type": "code",
   "execution_count": 16,
   "metadata": {},
   "outputs": [],
   "source": [
    "model = tf.keras.models.load_model('../models/wine_quality_classifier.h5')\n",
    "model.trainable = False\n",
    "X_test, Y_test = np.load(\"../dataset/wine_quality_X_test.npy\"), np.load(\"../dataset/wine_quality_Y_test.npy\")\n",
    "\n",
    "def prediction_to_word(pred):\n",
    "    if np.argmax(pred) == 0:\n",
    "        return 'Bad'\n",
    "    elif np.argmax(pred) == 1:\n",
    "        return 'Average'\n",
    "    else:\n",
    "        return 'Good'"
   ]
  },
  {
   "cell_type": "code",
   "execution_count": 17,
   "metadata": {},
   "outputs": [],
   "source": [
    "loss_object = tf.keras.losses.CategoricalCrossentropy()\n",
    "\n",
    "def create_adversarial_pattern(input, label):\n",
    "  input_tensor = tf.convert_to_tensor(input.reshape(1, 12), dtype=tf.float32)\n",
    "  label_tensor = tf.convert_to_tensor(label.reshape(1, 3), dtype=tf.float32)\n",
    "  with tf.GradientTape() as tape:\n",
    "    tape.watch(input_tensor)\n",
    "    prediction = model(input_tensor)\n",
    "    loss = loss_object(label_tensor, prediction)\n",
    "\n",
    "  # Get the gradients of the loss w.r.t to the input image.\n",
    "  gradient = tape.gradient(loss, input_tensor)\n",
    "  # Get the sign of the gradients to create the perturbation\n",
    "  signed_grad = tf.sign(gradient)\n",
    "  return signed_grad\n",
    "\n",
    "def create_adversarial_example(input, label, eps):\n",
    "  perturbations = create_adversarial_pattern(input, label)\n",
    "  adversarial_example = input + eps * perturbations\n",
    "  return adversarial_example"
   ]
  },
  {
   "cell_type": "code",
   "execution_count": 30,
   "metadata": {},
   "outputs": [
    {
     "name": "stdout",
     "output_type": "stream",
     "text": [
      "Actual label:             Bad\n",
      "Prediction before attack: Bad (62.31%)\n",
      "Prediction after attack:  Average (47.77%)\n"
     ]
    }
   ],
   "source": [
    "budget = 0.1\n",
    "index = 100\n",
    "\n",
    "prediction = model(X_test[index].reshape(1, 12))\n",
    "attacked_prediction = model(create_adversarial_example(X_test[index], Y_test[index], budget))\n",
    "print(f\"Actual label:             {prediction_to_word(Y_test[index])}\")\n",
    "print(f\"Prediction before attack: {prediction_to_word(prediction.numpy()[0])} ({100*np.max(prediction.numpy()):.2f}%)\")\n",
    "print(f\"Prediction after attack:  {prediction_to_word(attacked_prediction.numpy()[0])} ({100*np.max(attacked_prediction.numpy()):.2f}%)\")"
   ]
  },
  {
   "cell_type": "code",
   "execution_count": 33,
   "metadata": {},
   "outputs": [
    {
     "name": "stdout",
     "output_type": "stream",
     "text": [
      "[0.         0.11111111 0.22222222 0.33333333 0.44444444 0.55555556\n",
      " 0.66666667 0.77777778 0.88888889 1.        ]\n"
     ]
    }
   ],
   "source": [
    "def evaluate_attack(budget):\n",
    "    correct = 0\n",
    "    for i in range(len(X_test)):\n",
    "        attacked_prediction = model(create_adversarial_example(X_test[i], Y_test[i], budget))\n",
    "        if np.argmax(attacked_prediction) == np.argmax(Y_test[i]):\n",
    "            correct += 1\n",
    "    return correct / len(X_test)\n",
    "\n",
    "budgets = np.linspace(0, 1 , 9)\n",
    "accuracies = [evaluate_attack(budget) for budget in budgets]\n",
    "\n",
    "plt.plot(budgets, accuracies)\n",
    "plt.xlabel(\"Budget\")\n",
    "plt.ylabel(\"Accuracy\")\n",
    "plt.title(\"Accuracy of adversarial attack\")\n",
    "plt.show()"
   ]
  }
 ],
 "metadata": {
  "kernelspec": {
   "display_name": "Python 3",
   "language": "python",
   "name": "python3"
  },
  "language_info": {
   "codemirror_mode": {
    "name": "ipython",
    "version": 3
   },
   "file_extension": ".py",
   "mimetype": "text/x-python",
   "name": "python",
   "nbconvert_exporter": "python",
   "pygments_lexer": "ipython3",
   "version": "3.11.0"
  }
 },
 "nbformat": 4,
 "nbformat_minor": 2
}
