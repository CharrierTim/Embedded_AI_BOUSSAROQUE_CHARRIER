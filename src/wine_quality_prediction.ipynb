{
 "cells": [
  {
   "cell_type": "code",
   "execution_count": 1,
   "metadata": {},
   "outputs": [],
   "source": [
    "from dataset_handling import Dataset, saveDatasets\n",
    "from algorithms_comparison import average_error\n",
    "from sklearn.ensemble import RandomForestClassifier\n",
    "from skl2onnx import convert_sklearn\n",
    "from skl2onnx.common.data_types import FloatTensorType\n",
    "import numpy as np"
   ]
  },
  {
   "cell_type": "code",
   "execution_count": 2,
   "metadata": {},
   "outputs": [],
   "source": [
    "dataset = Dataset('../dataset/winequalityN.csv')\n",
    "X_train, X_test, Y_train, Y_test = dataset.split()"
   ]
  },
  {
   "cell_type": "code",
   "execution_count": 3,
   "metadata": {},
   "outputs": [
    {
     "name": "stdout",
     "output_type": "stream",
     "text": [
      "On average, the random forest gives an error of 0.38 points\n"
     ]
    }
   ],
   "source": [
    "rf = RandomForestClassifier(n_estimators=10, random_state=42)\n",
    "rf.fit(X_train, Y_train)\n",
    "Y_pred = rf.predict(X_test)\n",
    "err = average_error(Y_test, Y_pred)\n",
    "print(f'On average, the random forest gives an error of {err:.2f} points')"
   ]
  },
  {
   "cell_type": "code",
   "execution_count": 4,
   "metadata": {},
   "outputs": [
    {
     "ename": "TypeError",
     "evalue": "FloatTensorType.__init__() got an unexpected keyword argument 'target_type'",
     "output_type": "error",
     "traceback": [
      "\u001b[1;31m---------------------------------------------------------------------------\u001b[0m",
      "\u001b[1;31mTypeError\u001b[0m                                 Traceback (most recent call last)",
      "\u001b[1;32mc:\\Users\\Tim\\Documents\\3A\\AI\\Embedded_AI_BOUSSAROQUE_CHARRIER\\src\\wine_quality_prediction.ipynb Cell 4\u001b[0m line \u001b[0;36m4\n\u001b[0;32m      <a href='vscode-notebook-cell:/c%3A/Users/Tim/Documents/3A/AI/Embedded_AI_BOUSSAROQUE_CHARRIER/src/wine_quality_prediction.ipynb#W3sZmlsZQ%3D%3D?line=0'>1</a>\u001b[0m saveDatasets(X_test, Y_test, \u001b[39m'\u001b[39m\u001b[39m../dataset/test\u001b[39m\u001b[39m'\u001b[39m)\n\u001b[0;32m      <a href='vscode-notebook-cell:/c%3A/Users/Tim/Documents/3A/AI/Embedded_AI_BOUSSAROQUE_CHARRIER/src/wine_quality_prediction.ipynb#W3sZmlsZQ%3D%3D?line=2'>3</a>\u001b[0m \u001b[39m# convert the trained model to ONNX format\u001b[39;00m\n\u001b[1;32m----> <a href='vscode-notebook-cell:/c%3A/Users/Tim/Documents/3A/AI/Embedded_AI_BOUSSAROQUE_CHARRIER/src/wine_quality_prediction.ipynb#W3sZmlsZQ%3D%3D?line=3'>4</a>\u001b[0m initial_type \u001b[39m=\u001b[39m [(\u001b[39m'\u001b[39m\u001b[39mfloat_input\u001b[39m\u001b[39m'\u001b[39m, FloatTensorType([\u001b[39mNone\u001b[39;49;00m, X_train\u001b[39m.\u001b[39;49mshape[\u001b[39m1\u001b[39;49m]], target_type\u001b[39m=\u001b[39;49mnp\u001b[39m.\u001b[39;49mfloat16))]\n\u001b[0;32m      <a href='vscode-notebook-cell:/c%3A/Users/Tim/Documents/3A/AI/Embedded_AI_BOUSSAROQUE_CHARRIER/src/wine_quality_prediction.ipynb#W3sZmlsZQ%3D%3D?line=4'>5</a>\u001b[0m onnx_model \u001b[39m=\u001b[39m convert_sklearn(rf, initial_types\u001b[39m=\u001b[39minitial_type, target_opset\u001b[39m=\u001b[39m\u001b[39m12\u001b[39m)\n\u001b[0;32m      <a href='vscode-notebook-cell:/c%3A/Users/Tim/Documents/3A/AI/Embedded_AI_BOUSSAROQUE_CHARRIER/src/wine_quality_prediction.ipynb#W3sZmlsZQ%3D%3D?line=7'>8</a>\u001b[0m \u001b[39m# save the ONNX model to a file\u001b[39;00m\n",
      "\u001b[1;31mTypeError\u001b[0m: FloatTensorType.__init__() got an unexpected keyword argument 'target_type'"
     ]
    }
   ],
   "source": [
    "saveDatasets(X_test, Y_test, '../dataset/test')\n",
    "\n",
    "# convert the trained model to ONNX format\n",
    "initial_type = [('float_input', FloatTensorType([None, X_train.shape[1]]))]\n",
    "onnx_model = convert_sklearn(rf, initial_types=initial_type)\n",
    "\n",
    "# save the ONNX model to a file\n",
    "with open(\"../models/rf.onnx\", \"wb\") as f:\n",
    "    f.write(onnx_model.SerializeToString())"
   ]
  }
 ],
 "metadata": {
  "kernelspec": {
   "display_name": "Python 3",
   "language": "python",
   "name": "python3"
  },
  "language_info": {
   "codemirror_mode": {
    "name": "ipython",
    "version": 3
   },
   "file_extension": ".py",
   "mimetype": "text/x-python",
   "name": "python",
   "nbconvert_exporter": "python",
   "pygments_lexer": "ipython3",
   "version": "3.11.4"
  },
  "orig_nbformat": 4
 },
 "nbformat": 4,
 "nbformat_minor": 2
}
